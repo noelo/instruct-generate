{
 "cells": [
  {
   "cell_type": "code",
   "execution_count": null,
   "metadata": {},
   "outputs": [],
   "source": [
    "%pip -q install docling quackling llama-index llama-index-llms-openllm\n",
    "%pip -q install semantic-router semantic-chunkers"
   ]
  },
  {
   "cell_type": "code",
   "execution_count": null,
   "metadata": {},
   "outputs": [],
   "source": [
    "from docling.document_converter import DocumentConverter\n",
    "from docling.datamodel.base_models import PipelineOptions\n",
    "from llama_index.llms.openllm import OpenLLM\n",
    "from semantic_router.encoders.fastembed import FastEmbedEncoder\n",
    "from semantic_chunkers import StatisticalChunker\n",
    "\n",
    "import logging\n",
    "import os\n",
    "from dotenv import load_dotenv\n",
    "from __future__ import annotations\n",
    "from typing import Annotated, List, Optional\n",
    "from pydantic import BaseModel, Field, constr\n",
    "\n",
    "_log = logging.getLogger(__name__)\n",
    "logging.basicConfig(level=logging.INFO)\n",
    "load_dotenv()"
   ]
  },
  {
   "cell_type": "code",
   "execution_count": null,
   "metadata": {},
   "outputs": [],
   "source": [
    "source = \"/home/noelo/dev/instruct-injest/data/CELEX_32021R1173_EN_TXT.pdf\"\n",
    "converter = DocumentConverter(pipeline_options=PipelineOptions())\n",
    "result = converter.convert_single(source)\n",
    "_log.info(len(result.pages))\n",
    "raw_text = result.output.export_to_markdown()"
   ]
  },
  {
   "cell_type": "code",
   "execution_count": 4,
   "metadata": {},
   "outputs": [],
   "source": [
    "class QuestionsAndAnswer(BaseModel):\n",
    "    question: constr(min_length=1)\n",
    "    answer: constr(min_length=1)\n",
    "\n",
    "\n",
    "class SeedExample(BaseModel):\n",
    "    context: constr(min_length=1)\n",
    "    questions_and_answers: List[QuestionsAndAnswer] = Field(\n",
    "        ..., min_items=3, set=True\n",
    "    )\n",
    "\n",
    "class QNAModel(BaseModel):\n",
    "    created_by: Annotated[str, Field(None)]\n",
    "    domain: Annotated[str, Field(None)]\n",
    "    seed_examples: Annotated[List[SeedExample], Field(\n",
    "        None, min_items=5, set=True\n",
    "    )]"
   ]
  },
  {
   "cell_type": "code",
   "execution_count": null,
   "metadata": {},
   "outputs": [],
   "source": [
    "encoder = FastEmbedEncoder()\n",
    "chunker = StatisticalChunker(encoder=encoder,enable_statistics=True,plot_chunks=False,min_split_tokens=300, max_split_tokens=2000)\n",
    "chunks = chunker(docs=[raw_text])"
   ]
  },
  {
   "cell_type": "code",
   "execution_count": 6,
   "metadata": {},
   "outputs": [],
   "source": [
    "gen_prompt2=f\"You are a helpful question and answer writing assistant. Given the following context generate 3 question and answer pairs. Ensure that the questions can be answered by the context given. Do not number the pairs. Also generate a description of the contexts. You MUST only answer using the following json schema: {QNAModel.model_json_schema()} \\n Context:\""
   ]
  },
  {
   "cell_type": "code",
   "execution_count": null,
   "metadata": {},
   "outputs": [],
   "source": [
    "_log.setLevel(level=logging.INFO)\n",
    "\n",
    "llm_base = OpenLLM(\n",
    "    model=os.getenv(\"MODEL_NAME\"), \n",
    "    api_base=os.getenv(\"LLM_URL\"),\n",
    "    api_key=os.getenv(\"API_KEY\") )\n",
    "\n",
    "llm2 = llm_base.as_structured_llm(output_cls=QNAModel)\n",
    "\n",
    "comp_resp=''\n",
    "\n",
    "for ch in chunks[0]:\n",
    "    llm_msg = gen_prompt2+ch.content\n",
    "    _log.debug(llm_msg)\n",
    "    for it in llm_base.stream_complete(llm_msg,max_tokens=4000,timeout=120.0):\n",
    "        pass\n",
    "    \n",
    "    print(it)"
   ]
  }
 ],
 "metadata": {
  "kernelspec": {
   "display_name": "instvenv",
   "language": "python",
   "name": "python3"
  },
  "language_info": {
   "codemirror_mode": {
    "name": "ipython",
    "version": 3
   },
   "file_extension": ".py",
   "mimetype": "text/x-python",
   "name": "python",
   "nbconvert_exporter": "python",
   "pygments_lexer": "ipython3",
   "version": "3.10.14"
  }
 },
 "nbformat": 4,
 "nbformat_minor": 2
}
